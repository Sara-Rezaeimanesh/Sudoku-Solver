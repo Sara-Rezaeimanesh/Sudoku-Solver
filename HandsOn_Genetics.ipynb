{
 "cells": [
  {
   "cell_type": "markdown",
   "metadata": {},
   "source": [
    "<div dir=\"rtl\">\n",
    "<h4>نام: سارا رضایی منش</h4>\n",
    " \n",
    "<h4>شماره دانشجویی: ۸۱۰۱۹۸۵۷۶</h4>\n",
    "<h1 style=\"color: #cf133e; font-weight: 600;\">Genetics</h1>\n",
    "<h3>هدف پروژه: استفاده از الگوریتم genetics برای حل کردن جدول سودوکو</h3>\n",
    "<h5 style=\"line-height: 20pt;\">توضیح کلی پروژه: در این پروژه باید یک جدول سودوکو ۹*۹ را با استفاده از الگوریتم ژنتیک حل کنیم. در این الگوریتم پیدا کردن توابع crossover و mutation مناسب و اختصاص احتمال مناسب به آنها و همچنین چگونگی تولید حمعیت اولیه می تواند تاثیر به سزایی در عملکرد الگوریتم داشته باشد.</h5>\n",
    "</div>"
   ]
  },
  {
   "cell_type": "markdown",
   "metadata": {},
   "source": [
    "<div dir=\"rtl\">\n",
    "    <h3 style=\"color: #2b9978; font-weight: 600;\">مشخص کردن مفاهیم ژن و کروموزوم</h3>\n",
    "    <h5 style=\"line-height: 20pt;\">ژن: ردیف های جدول سودوکو</h5>\n",
    "    <h5 style=\"line-height: 20pt;\">کروموزوم: جدول سودوکو</h5>\n",
    "    <br/>\n",
    "    <h3 style=\"color: #2b9978; font-weight: 600;\">تولید جمعیت اولیه</h3>\n",
    "    <h5 style=\"line-height: 20pt;\">تعداد ۵۰ کروموزوم را به عنوان جمعیت اولیه در نظر گرفته و آنها را به این صورت پر می کنیم که خانه هایی که از قبل پر شده اند را بی تغییر گذاشته و خانه های خالی با یک عدد رندوم بین ۱ تا ۹ پر می کنیم. این عدد رندوم را طوری انتخاب می کنیم که مطمئن باشیم در هر سطر هیچ خانه تکراری وجود ندارد.</h5>\n",
    "</div>"
   ]
  },
  {
   "cell_type": "code",
   "execution_count": 117,
   "metadata": {},
   "outputs": [],
   "source": [
    "import pandas as pd\n",
    "import random\n",
    "from copy import deepcopy\n",
    "\n",
    "def createPopulation1(sdk):\n",
    "    chr = deepcopy(sdk)\n",
    "    for i in range(9):\n",
    "        for j in range(9):\n",
    "            if chr[i][j]:\n",
    "                continue\n",
    "            ch = random.randint(1, 9)\n",
    "            while ch in chr[i]:\n",
    "                ch = random.randint(1, 9)\n",
    "            chr[i][j] = ch  \n",
    "    return chr\n",
    "\n",
    "def createPopulation(sdk):\n",
    "    return [createPopulation1(sdk) for k in range(50)]"
   ]
  },
  {
   "cell_type": "markdown",
   "metadata": {},
   "source": [
    "<div dir=\"rtl\">\n",
    "    <h3 style=\"color: #2b9978; font-weight: 600;\">Fitness Function</h3>\n",
    "    <h5 style=\"line-height: 20pt;\">از آنجایی که در هر سطر کروموزوم های داده شده هیچ رقم تکراری ای وجود ندارد، fitness هر کروموزوم برابر با منفی مجموع تعداد خانه های تکراری ستون ها به اضافه جمع خانه های تکراری در بلوک های نه در نه است.</h5>\n",
    "</div>"
   ]
  },
  {
   "cell_type": "code",
   "execution_count": 118,
   "metadata": {},
   "outputs": [],
   "source": [
    "def calcFitness(chr):\n",
    "    negfit = 0\n",
    "    for i in range(9):\n",
    "        visited = []\n",
    "        for j in range(9):\n",
    "            if chr[j][i] in visited:\n",
    "                negfit += 1\n",
    "            else:\n",
    "                visited.append(chr[j][i])\n",
    "        \n",
    "    for x in range(3):\n",
    "        for y in range(3):\n",
    "            visited = []\n",
    "            for i in range(3):\n",
    "                for j in range(3):                    \n",
    "                    if chr[x*3 + i][y*3 + j] in visited:\n",
    "                        negfit += 1\n",
    "                    else:\n",
    "                        visited.append(chr[x*3 + i][y*3 + j])\n",
    "    return negfit"
   ]
  },
  {
   "cell_type": "markdown",
   "metadata": {},
   "source": [
    "<div dir=\"rtl\">\n",
    "    <h3 style=\"color: #2b9978; font-weight: 600;\">Crossover Function</h3>\n",
    "    <h5 style=\"line-height: 20pt;\">در این تابع یک ردیف به صورت تصادفی انتخاب شده و دو کروموزوم جدید به این صورت شکل می گیرند که اولی حاصل ترکیب ردیف های بالای ردیف انتخاب شده در کروموزوم پیشین اول با ردیف های پایین ردیف انتخاب شده در کروموزوم پیشین دوم است، و دومی حاصل ترکیب ردیف های پایین ردیف انتخاب شده در کروموزوم پیشین اول با ردیف های پایین ردیف انتخاب شده در کروموزوم پیشین دوم است. اینکار به احتمال 80 درصد انجام می شود.</h5>\n",
    "</div>"
   ]
  },
  {
   "cell_type": "code",
   "execution_count": 129,
   "metadata": {},
   "outputs": [],
   "source": [
    "def crossover(c1, c2):\n",
    "    if random.uniform(0, 1) <= 0.3:\n",
    "        return c1, c2\n",
    "\n",
    "    x = random.randint(1, 8)\n",
    "    c1s1, c1s2 = [c1[i][0:9] for i in range(0,x)], [c1[8-i][0:9] for i in reversed(range(9-x))]\n",
    "    c2s1, c2s2 = [c2[i][0:9] for i in range(0,x)], [c2[8-i][0:9] for i in reversed(range(9-x))]\n",
    "    return c1s1+c2s2, c2s1+c1s2 "
   ]
  },
  {
   "cell_type": "markdown",
   "metadata": {},
   "source": [
    "<div dir=\"rtl\">\n",
    "    <h3 style=\"color: #2b9978; font-weight: 600;\">Mutation Function</h3>\n",
    "    <h5 style=\"line-height: 20pt;\">این تابع به این صورت عمل می کند که دو ستون را به صورت تصادفی انتخاب کرده و جابه جا می کند. در صورتی که خانه ای در این دو ستون از پیش تعیین شده باشد، آن خانه جابه جا نمی شود. اینکار به احتمال 95 درصد انجام می شود. برای تسریع فرآیند یافتن پاسخ، در صورتی که در یکی از این جابه جایی ها، فیتنس کاهش پیدا کند، آن جابه جایی انجام نمی شود.</h5>\n",
    "</div>"
   ]
  },
  {
   "cell_type": "code",
   "execution_count": 161,
   "metadata": {},
   "outputs": [],
   "source": [
    "def difRand():\n",
    "    x, y = 0, 0\n",
    "    while x == y:\n",
    "        x, y = random.randint(0, 8), random.randint(0, 8)\n",
    "    return x, y\n",
    "\n",
    "def mutate(chr, sdk):\n",
    "    if random.uniform(0, 1) <= 0.05:\n",
    "        return chr\n",
    "    \n",
    "    minm = calcFitness(chr)\n",
    "    x, y = difRand()  \n",
    "    \n",
    "    for i in range(9):\n",
    "        if sdk[i][x] or sdk[i][y]:\n",
    "            continue\n",
    "        a = deepcopy(chr)\n",
    "        a[i][x], a[i][y] = a[i][y], a[i][x]\n",
    "        minA = calcFitness(a)\n",
    "        minm = min(minm, minA)\n",
    "        if(minm == minA):\n",
    "            chr[i][x], chr[i][y] = chr[i][y], chr[i][x]\n",
    "                \n",
    "    return chr"
   ]
  },
  {
   "cell_type": "markdown",
   "metadata": {},
   "source": [
    "<div dir=\"rtl\">\n",
    "    <h3 style=\"color: #2b9978; font-weight: 600;\">Solve Function:</h3>\n",
    "    <h5 style=\"line-height: 20pt;\">با استفاده از الگوریتم ژنتیک، جدول سودوکو را حل می کنیم.</h5>\n",
    "</div>"
   ]
  },
  {
   "cell_type": "code",
   "execution_count": 162,
   "metadata": {},
   "outputs": [
    {
     "data": {
      "text/plain": [
       "[[8, 2, 6, 9, 3, 5, 1, 4, 7],\n",
       " [4, 1, 7, 6, 8, 2, 9, 5, 3],\n",
       " [9, 5, 3, 1, 7, 4, 8, 2, 6],\n",
       " [7, 9, 4, 8, 2, 1, 6, 3, 5],\n",
       " [5, 6, 8, 3, 4, 7, 2, 9, 1],\n",
       " [1, 3, 2, 5, 6, 9, 4, 7, 8],\n",
       " [3, 4, 1, 2, 5, 8, 7, 6, 9],\n",
       " [2, 8, 5, 7, 9, 6, 3, 1, 4],\n",
       " [6, 7, 9, 4, 1, 3, 5, 8, 2]]"
      ]
     },
     "execution_count": 162,
     "metadata": {},
     "output_type": "execute_result"
    }
   ],
   "source": [
    "def solveSudoko(path):\n",
    "    last, stall = 0, 0\n",
    "    table = [[int(x) for x in item[0].split()] for item in pd.read_csv(path, header=None).values.tolist()] \n",
    "\n",
    "    population =createPopulation(table)\n",
    "    while True:\n",
    "        if stall > 1000:\n",
    "            stall = 0\n",
    "            population = createPopulation(table) \n",
    "        population.sort(key = calcFitness)\n",
    "        bestNum = int(len(population)/10)\n",
    "        for i in range(bestNum):\n",
    "            population[2*i], population[2*i+1] = crossover(population[2*i], population[2*i+1])\n",
    "            population[2*i] = mutate(population[2*i], table)\n",
    "            population[2*i+1] = mutate(population[2*i+1], table)\n",
    "            f1, f2 = calcFitness(population[2*i]), calcFitness(population[2*i+1])\n",
    "            \n",
    "            if not f1:\n",
    "                return population[2*i]\n",
    "\n",
    "            elif not f2:\n",
    "                return population[2*i+1]   \n",
    "            if f1 == last or f2 == last:\n",
    "                stall += 1\n",
    "            last = f2\n",
    "\n",
    "solveSudoko('./SampleSudoku/Test1.txt')"
   ]
  },
  {
   "cell_type": "code",
   "execution_count": 163,
   "metadata": {},
   "outputs": [
    {
     "data": {
      "text/plain": [
       "[[9, 6, 8, 2, 5, 3, 4, 7, 1],\n",
       " [4, 7, 5, 1, 9, 6, 3, 8, 2],\n",
       " [3, 1, 2, 4, 8, 7, 6, 9, 5],\n",
       " [2, 5, 1, 9, 4, 8, 7, 6, 3],\n",
       " [7, 9, 3, 6, 2, 5, 8, 1, 4],\n",
       " [8, 4, 6, 3, 7, 1, 2, 5, 9],\n",
       " [1, 8, 7, 5, 3, 2, 9, 4, 6],\n",
       " [6, 2, 9, 8, 1, 4, 5, 3, 7],\n",
       " [5, 3, 4, 7, 6, 9, 1, 2, 8]]"
      ]
     },
     "execution_count": 163,
     "metadata": {},
     "output_type": "execute_result"
    }
   ],
   "source": [
    "solveSudoko('./SampleSudoku/Test2.txt')"
   ]
  },
  {
   "cell_type": "markdown",
   "metadata": {},
   "source": [
    "<div dir=\"rtl\">\n",
    "    <h3 style=\"color: #2b9978; font-weight: 600;\">سوالات</h3>\n",
    "    <h5 style=\"line-height: 20pt;\">1.</h5>\n",
    "    <h5 style=\"line-height: 20pt;\">پس از تولید جمعیت اولیه، این مجموعه سورت می شود و بیست درصد این کروموزوم ها به مرحله بعد منتقل می شوند. کروموزوم ها با فیتنس بالاتر احتمال اینکه با ترکیب شدن کروموزوم های بهتری بسازند بیشتر است و با این عملیات، کروموزوم های بهتر استخراج می شوند.</h5>\n",
    "    <h5 style=\"line-height: 20pt;\">2.</h5>\n",
    "    <h5 style=\"line-height: 20pt;\">تابع تناسب نشان می دهد در هر جدول چه تعداد خانه مقدار تکراری دارند. هر چه این تعداد به صفر نزدیکتر باشد بهتر است و بین دو جدول جدولی که تعداد خانه های تکراری بیشتری داشته باشد، نسبت به دیگری ژن بدتری محسوب می شود چون با حالت بدون خانه تکراری فاصله بیشتری دارد. پس این تابع می تواند معیار مناسبی برای مقایسه کروموزوم ها باشد.</h5>\n",
    "    <h5 style=\"line-height: 20pt;\">این تابع به احتمال ۷۰ درصد انجام می شود. که این مقدار با آزمون و خطا بدست امده و مقادیر بیشتر یا کمتر باعث بیشتر شدن زمان اجرا می شدند.</h5>\n",
    "    <h5 style=\"line-height: 20pt;\">3.</h5>\n",
    "    <h5 style=\"line-height: 20pt;\">تابع cross over به این صورت عمل می کنه که دو جدول را می گیرد و آنها را از یک ردیفی که به صورت تصادفی انتخاب می شود می شکند. سپس بخش پایینی آنها را با هم عوض می کند و دو کروموزوم جدید بازمی گرداند.</h5>\n",
    "    <h5 style=\"line-height: 20pt;\">تابع mutation به این صورت عمل می کند که دو ستون به صورت تصادفی انتخاب می کند و همه خانه های این دو ستون به جز خانه هایی از قبل تعیین شده اند و خانه هایی که جا به جایی آنها باعث کاهش fitness کروموزم می شود را عوض می کند.</h5>\n",
    "    <h5 style=\"line-height: 20pt;\">از آنجایی که این تابع صرفا در جهت بهتر کردن تناسب پیش می رود، بر خلاف حالت عادی با احتمال بالای ۹۵ درصد انجام می شود.</h5>\n",
    "    <h5 style=\"line-height: 20pt;\">4.</h5>\n",
    "    <h5 style=\"line-height: 20pt;\">برای جلوگیری از این مشکل می تواند یک مقدار last تعیین کرد که مقدار تناسب آخرین کروموزوم بدست آمده را در خود نگه دارد. در هر مرحله در صورتی که مقدار تناسب یک کروموزوم با مقدار last برابر بود یعنی یک تناسب تکرار شده است. در غیر اینصورت مقدار last را آپدیت می کنیم. اگر تکرار شدن last چند بار اتفاق بیوفتد یعنی به احتمال زیاد کروموزوم های دیگر تغییر نمی کنند. برای حل این مشکل می توانیم مجدد جمعیت اولیه را بسازیم یا به جای بیست درصد اول جمعیت از بیست درصد دوم جمعیت استفاده کنیم.</h5>\n",
    "</div>"
   ]
  },
  {
   "cell_type": "markdown",
   "metadata": {},
   "source": [
    "<div dir=\"rtl\">\n",
    "    <h3 style=\"color: #2b9978; font-weight: 600;\">نتیجه گیری</h3>\n",
    "    <h5 style=\"line-height: 20pt;\">الگوریتم های ژنتیک می توانند سرعت و عملکرد بالایی داشته باشند اما پیدا کردن مقادیر احتمال ها و توابع crossover و mutation مناسب کار ساده ای نیست و همچنین دیباگ کردن آنها به علت تصادفی بودنشان کار سختی است.</h5>\n",
    "</div>"
   ]
  },
  {
   "cell_type": "markdown",
   "metadata": {},
   "source": [
    "<div dir=\"rtl\">\n",
    "    <h3 style=\"color: #2b9978; font-weight: 600;\">پیشنهادات:</h3>\n",
    "    <h5 style=\"line-height: 20pt;\">پیشنهادی ندارم. ممنون از زحماتتون</h5>\n",
    "</div>"
   ]
  },
  {
   "cell_type": "markdown",
   "metadata": {},
   "source": [
    "<div dir=\"rtl\">\n",
    "    <h3 style=\"color: #2b9978; font-weight: 600;\">Resources:</h3>\n",
    "    <h5 style=\"line-height: 20pt;\">اسلاید ها و لکچر های درس</h5>\n",
    "</div>"
   ]
  }
 ],
 "metadata": {
  "interpreter": {
   "hash": "916dbcbb3f70747c44a77c7bcd40155683ae19c65e1c03b4aa3499c5328201f1"
  },
  "kernelspec": {
   "display_name": "Python 3.8.10 64-bit",
   "language": "python",
   "name": "python3"
  },
  "language_info": {
   "codemirror_mode": {
    "name": "ipython",
    "version": 3
   },
   "file_extension": ".py",
   "mimetype": "text/x-python",
   "name": "python",
   "nbconvert_exporter": "python",
   "pygments_lexer": "ipython3",
   "version": "3.8.10"
  },
  "orig_nbformat": 4
 },
 "nbformat": 4,
 "nbformat_minor": 2
}
